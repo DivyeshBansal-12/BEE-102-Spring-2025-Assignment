{
 "cells": [
  {
   "cell_type": "markdown",
   "metadata": {
    "id": "D0tBh_sUvuJi"
   },
   "source": [
    "# **Building Markov transition matrix**"
   ]
  },
  {
   "cell_type": "markdown",
   "metadata": {
    "id": "76pjSMNEvxja"
   },
   "source": [
    "Simple Dinucleotide Frequency Model just counts how often each pair appears in the sequence.\n",
    "Markov model computes conditional probabilities and caputres the transition biases .\n",
    "To compute the transition matrix:\n",
    "\n",
    "*   Count transitions (how many times A → T, A → C, etc. occur).\n",
    "*   Normalize counts into probabilities by dividing each row by sum of the counts in that row.\n",
    "\n",
    "For simple dinucleotide frequency model\n",
    "* Count all dinucleotides in the sequence\n",
    "* Normalize by dividing by the total number of dinucleotides\n",
    "\n",
    "\n",
    "\n",
    "\n",
    "\n",
    "\n"
   ]
  },
  {
   "cell_type": "code",
   "execution_count": 1,
   "metadata": {
    "id": "MPAdZAMfwrVM"
   },
   "outputs": [],
   "source": [
    "import numpy as np\n",
    "import pandas as pd\n"
   ]
  },
  {
   "cell_type": "code",
   "execution_count": 2,
   "metadata": {
    "id": "vOQtYHZaxIty"
   },
   "outputs": [],
   "source": [
    "def simple_dinucleotide_frequency(dna_seq):\n",
    "\n",
    "    nucleotides = ['A', 'C', 'G', 'T']\n",
    "    nuc_to_idx = {nuc:i for i, nuc in enumerate(nucleotides)}  #Map nucleotide to index\n",
    "\n",
    "\n",
    "    count_matrix = np.zeros((4, 4), dtype=int)\n",
    "    freq_matrix = np.zeros((4, 4))\n",
    "\n",
    "    # Count dinucleotides\n",
    "    for i in range(len(dna_seq) - 1):\n",
    "        current = dna_seq[i]\n",
    "        next_nuc = dna_seq[i+1]\n",
    "        if current in nuc_to_idx and next_nuc in nuc_to_idx:\n",
    "            row = nuc_to_idx[current]\n",
    "            col = nuc_to_idx[next_nuc]\n",
    "            count_matrix[row, col] += 1\n",
    "\n",
    "    # Calculate frequencies (normalize by total dinucleotides)\n",
    "    total_pairs = max(1, len(dna_seq) - 1)  # Avoid division by zero\n",
    "    freq_matrix = count_matrix / total_pairs\n",
    "\n",
    "    return freq_matrix, count_matrix"
   ]
  },
  {
   "cell_type": "code",
   "execution_count": 3,
   "metadata": {
    "id": "MItQS4UBxL7y"
   },
   "outputs": [],
   "source": [
    "def markov_transition_matrix(dna_seq):\n",
    "    nucleotides = ['A', 'C', 'G', 'T']\n",
    "    nuc_to_idx = {nuc:i for i, nuc in enumerate(nucleotides)}\n",
    "\n",
    "\n",
    "    count_matrix = np.zeros((4, 4), dtype=int)\n",
    "    transition_matrix = np.zeros((4, 4))\n",
    "\n",
    "    # Count transitions\n",
    "    for i in range(len(dna_seq) - 1):\n",
    "        current = dna_seq[i]\n",
    "        next_nuc = dna_seq[i+1]\n",
    "\n",
    "        if current in nuc_to_idx and next_nuc in nuc_to_idx:\n",
    "            row = nuc_to_idx[current]\n",
    "            col = nuc_to_idx[next_nuc]\n",
    "            count_matrix[row, col] += 1\n",
    "\n",
    "\n",
    "    row_sums = count_matrix.sum(axis=1)  # Sum each row\n",
    "    for i in range(4):\n",
    "        if row_sums[i] > 0:\n",
    "            transition_matrix[i] = count_matrix[i] / row_sums[i]  # Normalize\n",
    "        else:\n",
    "            transition_matrix[i] = 0  # Avoid division by zero\n",
    "\n",
    "    return transition_matrix, count_matrix"
   ]
  },
  {
   "cell_type": "code",
   "execution_count": 4,
   "metadata": {
    "colab": {
     "base_uri": "https://localhost:8080/"
    },
    "id": "iS1vqC2OuDDW",
    "outputId": "e7e30610-1910-460c-f71f-556bd27daa48"
   },
   "outputs": [
    {
     "name": "stdin",
     "output_type": "stream",
     "text": [
      "Please enter the DNA sequence whose transition matrix is to be build:  ACGTTGCAACACACGTCAGAATGCATAATACGTCCTTTATGCCGGAAGACACAGATACGATACAGAT\n"
     ]
    },
    {
     "name": "stdout",
     "output_type": "stream",
     "text": [
      "You entered:  ACGTTGCAACACACGTCAGAATGCATAATACGTCCTTTATGCCGGAAGACACAGATACGATACAGAT\n"
     ]
    }
   ],
   "source": [
    "dna_seq = input(\"Please enter the DNA sequence whose transition matrix is to be build: \")\n",
    "print(\"You entered: \", dna_seq)\n",
    "for nucleo in dna_seq:\n",
    "    if nucleo not in {'A','G','T','C'}:\n",
    "        print(\"Invalid DNA sequence\")\n",
    "        break"
   ]
  },
  {
   "cell_type": "code",
   "execution_count": 5,
   "metadata": {
    "colab": {
     "base_uri": "https://localhost:8080/",
     "height": 368
    },
    "id": "pLo5CjK4xUsv",
    "outputId": "bc7eef68-38db-484b-9974-8e1a8cc938a6"
   },
   "outputs": [
    {
     "name": "stdout",
     "output_type": "stream",
     "text": [
      "Dinucleotide Count Matrix:\n"
     ]
    },
    {
     "data": {
      "text/html": [
       "<div>\n",
       "<style scoped>\n",
       "    .dataframe tbody tr th:only-of-type {\n",
       "        vertical-align: middle;\n",
       "    }\n",
       "\n",
       "    .dataframe tbody tr th {\n",
       "        vertical-align: top;\n",
       "    }\n",
       "\n",
       "    .dataframe thead th {\n",
       "        text-align: right;\n",
       "    }\n",
       "</style>\n",
       "<table border=\"1\" class=\"dataframe\">\n",
       "  <thead>\n",
       "    <tr style=\"text-align: right;\">\n",
       "      <th></th>\n",
       "      <th>A</th>\n",
       "      <th>C</th>\n",
       "      <th>G</th>\n",
       "      <th>T</th>\n",
       "    </tr>\n",
       "  </thead>\n",
       "  <tbody>\n",
       "    <tr>\n",
       "      <th>A</th>\n",
       "      <td>4</td>\n",
       "      <td>9</td>\n",
       "      <td>4</td>\n",
       "      <td>7</td>\n",
       "    </tr>\n",
       "    <tr>\n",
       "      <th>C</th>\n",
       "      <td>8</td>\n",
       "      <td>2</td>\n",
       "      <td>5</td>\n",
       "      <td>1</td>\n",
       "    </tr>\n",
       "    <tr>\n",
       "      <th>G</th>\n",
       "      <td>6</td>\n",
       "      <td>3</td>\n",
       "      <td>1</td>\n",
       "      <td>3</td>\n",
       "    </tr>\n",
       "    <tr>\n",
       "      <th>T</th>\n",
       "      <td>5</td>\n",
       "      <td>2</td>\n",
       "      <td>3</td>\n",
       "      <td>3</td>\n",
       "    </tr>\n",
       "  </tbody>\n",
       "</table>\n",
       "</div>"
      ],
      "text/plain": [
       "   A  C  G  T\n",
       "A  4  9  4  7\n",
       "C  8  2  5  1\n",
       "G  6  3  1  3\n",
       "T  5  2  3  3"
      ]
     },
     "metadata": {},
     "output_type": "display_data"
    },
    {
     "name": "stdout",
     "output_type": "stream",
     "text": [
      "Dinucleotide Frequency Matrix:\n"
     ]
    },
    {
     "data": {
      "text/html": [
       "<style type=\"text/css\">\n",
       "</style>\n",
       "<table id=\"T_81b21\">\n",
       "  <thead>\n",
       "    <tr>\n",
       "      <th class=\"blank level0\" >&nbsp;</th>\n",
       "      <th id=\"T_81b21_level0_col0\" class=\"col_heading level0 col0\" >A</th>\n",
       "      <th id=\"T_81b21_level0_col1\" class=\"col_heading level0 col1\" >C</th>\n",
       "      <th id=\"T_81b21_level0_col2\" class=\"col_heading level0 col2\" >G</th>\n",
       "      <th id=\"T_81b21_level0_col3\" class=\"col_heading level0 col3\" >T</th>\n",
       "    </tr>\n",
       "  </thead>\n",
       "  <tbody>\n",
       "    <tr>\n",
       "      <th id=\"T_81b21_level0_row0\" class=\"row_heading level0 row0\" >A</th>\n",
       "      <td id=\"T_81b21_row0_col0\" class=\"data row0 col0\" >0.06</td>\n",
       "      <td id=\"T_81b21_row0_col1\" class=\"data row0 col1\" >0.14</td>\n",
       "      <td id=\"T_81b21_row0_col2\" class=\"data row0 col2\" >0.06</td>\n",
       "      <td id=\"T_81b21_row0_col3\" class=\"data row0 col3\" >0.11</td>\n",
       "    </tr>\n",
       "    <tr>\n",
       "      <th id=\"T_81b21_level0_row1\" class=\"row_heading level0 row1\" >C</th>\n",
       "      <td id=\"T_81b21_row1_col0\" class=\"data row1 col0\" >0.12</td>\n",
       "      <td id=\"T_81b21_row1_col1\" class=\"data row1 col1\" >0.03</td>\n",
       "      <td id=\"T_81b21_row1_col2\" class=\"data row1 col2\" >0.08</td>\n",
       "      <td id=\"T_81b21_row1_col3\" class=\"data row1 col3\" >0.02</td>\n",
       "    </tr>\n",
       "    <tr>\n",
       "      <th id=\"T_81b21_level0_row2\" class=\"row_heading level0 row2\" >G</th>\n",
       "      <td id=\"T_81b21_row2_col0\" class=\"data row2 col0\" >0.09</td>\n",
       "      <td id=\"T_81b21_row2_col1\" class=\"data row2 col1\" >0.05</td>\n",
       "      <td id=\"T_81b21_row2_col2\" class=\"data row2 col2\" >0.02</td>\n",
       "      <td id=\"T_81b21_row2_col3\" class=\"data row2 col3\" >0.05</td>\n",
       "    </tr>\n",
       "    <tr>\n",
       "      <th id=\"T_81b21_level0_row3\" class=\"row_heading level0 row3\" >T</th>\n",
       "      <td id=\"T_81b21_row3_col0\" class=\"data row3 col0\" >0.08</td>\n",
       "      <td id=\"T_81b21_row3_col1\" class=\"data row3 col1\" >0.03</td>\n",
       "      <td id=\"T_81b21_row3_col2\" class=\"data row3 col2\" >0.05</td>\n",
       "      <td id=\"T_81b21_row3_col3\" class=\"data row3 col3\" >0.05</td>\n",
       "    </tr>\n",
       "  </tbody>\n",
       "</table>\n"
      ],
      "text/plain": [
       "<pandas.io.formats.style.Styler at 0x1cddb31bc10>"
      ]
     },
     "metadata": {},
     "output_type": "display_data"
    }
   ],
   "source": [
    "dinuc_freq, dinuc_counts = simple_dinucleotide_frequency(dna_seq)\n",
    "\n",
    "# Create labeled dataframes\n",
    "nucleotides = ['A', 'C', 'G', 'T']\n",
    "df_dinuc_freq = pd.DataFrame(dinuc_freq,\n",
    "                             index=nucleotides,\n",
    "                             columns=nucleotides)\n",
    "df_dinuc_counts = pd.DataFrame(dinuc_counts,\n",
    "                                index=nucleotides,\n",
    "                                columns=nucleotides)\n",
    "\n",
    "# Display results\n",
    "print(\"Dinucleotide Count Matrix:\")\n",
    "display(df_dinuc_counts)\n",
    "print(\"Dinucleotide Frequency Matrix:\")\n",
    "display(df_dinuc_freq.style.format(\"{:.2f}\"))\n",
    "\n"
   ]
  },
  {
   "cell_type": "code",
   "execution_count": 6,
   "metadata": {
    "colab": {
     "base_uri": "https://localhost:8080/",
     "height": 385
    },
    "id": "jcOsQA61xPPv",
    "outputId": "ed6cb54d-5945-4d5b-9328-8d661dd21551"
   },
   "outputs": [
    {
     "name": "stdout",
     "output_type": "stream",
     "text": [
      "\n",
      "Count Matrix:\n"
     ]
    },
    {
     "data": {
      "text/html": [
       "<div>\n",
       "<style scoped>\n",
       "    .dataframe tbody tr th:only-of-type {\n",
       "        vertical-align: middle;\n",
       "    }\n",
       "\n",
       "    .dataframe tbody tr th {\n",
       "        vertical-align: top;\n",
       "    }\n",
       "\n",
       "    .dataframe thead th {\n",
       "        text-align: right;\n",
       "    }\n",
       "</style>\n",
       "<table border=\"1\" class=\"dataframe\">\n",
       "  <thead>\n",
       "    <tr style=\"text-align: right;\">\n",
       "      <th></th>\n",
       "      <th>A</th>\n",
       "      <th>C</th>\n",
       "      <th>G</th>\n",
       "      <th>T</th>\n",
       "    </tr>\n",
       "  </thead>\n",
       "  <tbody>\n",
       "    <tr>\n",
       "      <th>A</th>\n",
       "      <td>4</td>\n",
       "      <td>9</td>\n",
       "      <td>4</td>\n",
       "      <td>7</td>\n",
       "    </tr>\n",
       "    <tr>\n",
       "      <th>C</th>\n",
       "      <td>8</td>\n",
       "      <td>2</td>\n",
       "      <td>5</td>\n",
       "      <td>1</td>\n",
       "    </tr>\n",
       "    <tr>\n",
       "      <th>G</th>\n",
       "      <td>6</td>\n",
       "      <td>3</td>\n",
       "      <td>1</td>\n",
       "      <td>3</td>\n",
       "    </tr>\n",
       "    <tr>\n",
       "      <th>T</th>\n",
       "      <td>5</td>\n",
       "      <td>2</td>\n",
       "      <td>3</td>\n",
       "      <td>3</td>\n",
       "    </tr>\n",
       "  </tbody>\n",
       "</table>\n",
       "</div>"
      ],
      "text/plain": [
       "   A  C  G  T\n",
       "A  4  9  4  7\n",
       "C  8  2  5  1\n",
       "G  6  3  1  3\n",
       "T  5  2  3  3"
      ]
     },
     "metadata": {},
     "output_type": "display_data"
    },
    {
     "name": "stdout",
     "output_type": "stream",
     "text": [
      "Transition Probability Matrix:\n"
     ]
    },
    {
     "data": {
      "text/html": [
       "<style type=\"text/css\">\n",
       "</style>\n",
       "<table id=\"T_ef28d\">\n",
       "  <thead>\n",
       "    <tr>\n",
       "      <th class=\"blank level0\" >&nbsp;</th>\n",
       "      <th id=\"T_ef28d_level0_col0\" class=\"col_heading level0 col0\" >A</th>\n",
       "      <th id=\"T_ef28d_level0_col1\" class=\"col_heading level0 col1\" >C</th>\n",
       "      <th id=\"T_ef28d_level0_col2\" class=\"col_heading level0 col2\" >G</th>\n",
       "      <th id=\"T_ef28d_level0_col3\" class=\"col_heading level0 col3\" >T</th>\n",
       "    </tr>\n",
       "  </thead>\n",
       "  <tbody>\n",
       "    <tr>\n",
       "      <th id=\"T_ef28d_level0_row0\" class=\"row_heading level0 row0\" >A</th>\n",
       "      <td id=\"T_ef28d_row0_col0\" class=\"data row0 col0\" >0.17</td>\n",
       "      <td id=\"T_ef28d_row0_col1\" class=\"data row0 col1\" >0.38</td>\n",
       "      <td id=\"T_ef28d_row0_col2\" class=\"data row0 col2\" >0.17</td>\n",
       "      <td id=\"T_ef28d_row0_col3\" class=\"data row0 col3\" >0.29</td>\n",
       "    </tr>\n",
       "    <tr>\n",
       "      <th id=\"T_ef28d_level0_row1\" class=\"row_heading level0 row1\" >C</th>\n",
       "      <td id=\"T_ef28d_row1_col0\" class=\"data row1 col0\" >0.50</td>\n",
       "      <td id=\"T_ef28d_row1_col1\" class=\"data row1 col1\" >0.12</td>\n",
       "      <td id=\"T_ef28d_row1_col2\" class=\"data row1 col2\" >0.31</td>\n",
       "      <td id=\"T_ef28d_row1_col3\" class=\"data row1 col3\" >0.06</td>\n",
       "    </tr>\n",
       "    <tr>\n",
       "      <th id=\"T_ef28d_level0_row2\" class=\"row_heading level0 row2\" >G</th>\n",
       "      <td id=\"T_ef28d_row2_col0\" class=\"data row2 col0\" >0.46</td>\n",
       "      <td id=\"T_ef28d_row2_col1\" class=\"data row2 col1\" >0.23</td>\n",
       "      <td id=\"T_ef28d_row2_col2\" class=\"data row2 col2\" >0.08</td>\n",
       "      <td id=\"T_ef28d_row2_col3\" class=\"data row2 col3\" >0.23</td>\n",
       "    </tr>\n",
       "    <tr>\n",
       "      <th id=\"T_ef28d_level0_row3\" class=\"row_heading level0 row3\" >T</th>\n",
       "      <td id=\"T_ef28d_row3_col0\" class=\"data row3 col0\" >0.38</td>\n",
       "      <td id=\"T_ef28d_row3_col1\" class=\"data row3 col1\" >0.15</td>\n",
       "      <td id=\"T_ef28d_row3_col2\" class=\"data row3 col2\" >0.23</td>\n",
       "      <td id=\"T_ef28d_row3_col3\" class=\"data row3 col3\" >0.23</td>\n",
       "    </tr>\n",
       "  </tbody>\n",
       "</table>\n"
      ],
      "text/plain": [
       "<pandas.io.formats.style.Styler at 0x1cddd2aa250>"
      ]
     },
     "metadata": {},
     "output_type": "display_data"
    }
   ],
   "source": [
    "trans_mat, count_mat = markov_transition_matrix(dna_seq)\n",
    "\n",
    "# Display matrices with labels\n",
    "nucleotides = ['A', 'C', 'G', 'T']\n",
    "df_trans = pd.DataFrame(trans_mat, index=nucleotides, columns=nucleotides)\n",
    "df_count = pd.DataFrame(count_mat, index=nucleotides, columns=nucleotides)\n",
    "\n",
    "print(\"\\nCount Matrix:\")\n",
    "display(df_count)\n",
    "print(\"Transition Probability Matrix:\")\n",
    "display(df_trans.style.format(\"{:.2f}\"))  # Show probabilities with 2 decimal places\n",
    "\n"
   ]
  }
 ],
 "metadata": {
  "colab": {
   "provenance": []
  },
  "kernelspec": {
   "display_name": "Python 3 (ipykernel)",
   "language": "python",
   "name": "python3"
  },
  "language_info": {
   "codemirror_mode": {
    "name": "ipython",
    "version": 3
   },
   "file_extension": ".py",
   "mimetype": "text/x-python",
   "name": "python",
   "nbconvert_exporter": "python",
   "pygments_lexer": "ipython3",
   "version": "3.11.7"
  }
 },
 "nbformat": 4,
 "nbformat_minor": 4
}
