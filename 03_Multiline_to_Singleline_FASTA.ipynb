{
 "cells": [
  {
   "cell_type": "markdown",
   "metadata": {
    "id": "BK5U0oZ6I8Py"
   },
   "source": [
    "# Multi-line sequence fasta to single-line fasta file"
   ]
  },
  {
   "cell_type": "code",
   "execution_count": 1,
   "metadata": {
    "id": "iz21XbEUKQFn"
   },
   "outputs": [
    {
     "name": "stdout",
     "output_type": "stream",
     "text": [
      "Converted multiline_input.fasta to singleline_output.fasta with header in a single line followed by its sequence in a single line.\n"
     ]
    }
   ],
   "source": [
    "input = \"multiline_input.fasta\"\n",
    "output = \"singleline_output.fasta\"\n",
    "with open(input, 'r') as inp, open(output, 'w') as out:\n",
    "    seq = \"\"\n",
    "    for line in inp:\n",
    "        line = line.strip()\n",
    "        if line.startswith('>'):\n",
    "            if(seq):\n",
    "                out.write(seq + \"\\n\")\n",
    "                seq = \"\"\n",
    "            out.write(line + \"\\n\")\n",
    "        else:\n",
    "            seq += line\n",
    "\n",
    "    out.write(seq + \"\\n\")\n",
    "\n",
    "    print(f\"Converted {input} to {output} with header in a single line followed by its sequence in a single line.\")"
   ]
  },
  {
   "cell_type": "code",
   "execution_count": 2,
   "metadata": {
    "colab": {
     "base_uri": "https://localhost:8080/"
    },
    "id": "3F3ctMvxKJLk",
    "outputId": "c649088f-6a05-4b70-8cc8-3c6a5fa11e12"
   },
   "outputs": [
    {
     "name": "stdout",
     "output_type": "stream",
     "text": [
      "Head of Original Input File:\n",
      ">1\n",
      "TCCAATTGAGCTATACCGTCAGAAGTAGATGAGATCTAACGGCGCGCCCGGTTGTCGCAG\n",
      "CCACGCTAGGCACAGTCAAAGCAGTGACCCAGCCCTTCAGACGTTACTGTGAAAATCTGT\n",
      "CCACCGAGAACGCTTTCAAAATATATTAGCGGTTTAAGCTAGGCAAGTCACGGCATGTCC\n",
      "TTACAAAAGCCTACGAGCCGGGCCACATTATGTCGCCCATAAGATGCCAATACAATCTCA\n",
      "AGTAGGATAAGCATGTCTTACCACTAGCGTTCTGTGTTTGTGGGGTTACGCGTTGTGTTA\n",
      "CCAACGGTCCCCTATAGCTCAGCAGTAATAAGTTTTATTGTGCTCAAGGCC\n",
      ">2\n",
      "GATAGCGACGACGCTAGTTCCTAGGGACCCGGGGGGGATCAGTGGTGACGGTATGCTCTT\n",
      "GCTGGTGCGACCCGTAACGAAGTCACATGGGTAGTGGCGGCACAGGATATCGTAGTGACA\n",
      "\n",
      " Head of Single-line Output File:\n",
      ">1\n",
      "TCCAATTGAGCTATACCGTCAGAAGTAGATGAGATCTAACGGCGCGCCCGGTTGTCGCAGCCACGCTAGGCACAGTCAAAGCAGTGACCCAGCCCTTCAGACGTTACTGTGAAAATCTGTCCACCGAGAACGCTTTCAAAATATATTAGCGGTTTAAGCTAGGCAAGTCACGGCATGTCCTTACAAAAGCCTACGAGCCGGGCCACATTATGTCGCCCATAAGATGCCAATACAATCTCAAGTAGGATAAGCATGTCTTACCACTAGCGTTCTGTGTTTGTGGGGTTACGCGTTGTGTTACCAACGGTCCCCTATAGCTCAGCAGTAATAAGTTTTATTGTGCTCAAGGCC\n",
      ">2\n",
      "GATAGCGACGACGCTAGTTCCTAGGGACCCGGGGGGGATCAGTGGTGACGGTATGCTCTTGCTGGTGCGACCCGTAACGAAGTCACATGGGTAGTGGCGGCACAGGATATCGTAGTGACAGGAACCTGATATTCCGTTGCAGAACACACGCGACAATCTACAAGTTATTTTCGGCTGAGTTACTTACTCACAAGATCCACATGGAAATTTAATATACGACGCTGAGGAGGGTTGCACAACGGCTCTCTTTCCTAAGAACAGAATTGCCTAAGAATTCAGAGCTCAAAGGCTCCATTTCTTGAGGTATGGTCGTCGGTATATTAACGGTGCTA\n",
      ">3\n",
      "GCCTATCTCACATGATAACCAGGTCTAGTTATGCTATTCATATACCTACTGTGTCCACTTTCTGTACTCCACGCGCGTACATAAGTACTGGAGTTAAATACAATGAAACGATGCAAGATGGGCTAAAGTTCAAGGAGGAGCTCTGCCATATCATTCTCTACAGCAAGACTGGGGCTCTGGGAATGGAGATAAAAAGGAGTTACATGCACGTAAAGTCGCCATCCATGCTACTTTGTTTGGCGCGGGGAACGCCCCGCCCTACTATTCATATGTCTACAC\n",
      ">4\n",
      "GTAACCCTATAGTCAGGAGGTCACCCGTGATGTTAAGGCG\n",
      ">5\n",
      "TTCCCGGATCAGTCACATCTAACATCTCATTGACTTCCTCCTATCGGTCGCCATCAGTACCTCGCGACTGAGCGGATCATTAGCGTCAGATTCACACAGAATCTCGCTGGCTCTGGTGTCAACGTATCAGGTCTGCCTTTCCATACAAGTTCACCATCCTAATAGGCTCTAGGCAATTCAAGCCTAATCTATCCCGAAATGTGACTCTCTCGCTTACTCAAGTGTGTCATAGGAATCCGTCTGAGAGTTTGAGCTGG\n"
     ]
    }
   ],
   "source": [
    "print(\"Head of Original Input File:\")\n",
    "with open(input, 'r') as inp:\n",
    "    for i, line in enumerate(inp):\n",
    "        if i >= 10: break\n",
    "        print(line.strip())\n",
    "\n",
    "print(\"\\n Head of Single-line Output File:\")\n",
    "with open(output, 'r') as out:\n",
    "    for i, line in enumerate(out):\n",
    "        if i >= 10: break\n",
    "        print(line.strip())"
   ]
  },
  {
   "cell_type": "code",
   "execution_count": null,
   "metadata": {},
   "outputs": [],
   "source": []
  }
 ],
 "metadata": {
  "colab": {
   "provenance": []
  },
  "kernelspec": {
   "display_name": "Python 3 (ipykernel)",
   "language": "python",
   "name": "python3"
  },
  "language_info": {
   "codemirror_mode": {
    "name": "ipython",
    "version": 3
   },
   "file_extension": ".py",
   "mimetype": "text/x-python",
   "name": "python",
   "nbconvert_exporter": "python",
   "pygments_lexer": "ipython3",
   "version": "3.11.7"
  }
 },
 "nbformat": 4,
 "nbformat_minor": 4
}
