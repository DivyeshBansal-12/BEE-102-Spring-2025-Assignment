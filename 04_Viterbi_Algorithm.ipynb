{
 "cells": [
  {
   "cell_type": "markdown",
   "metadata": {
    "id": "La9p8vseFF0f"
   },
   "source": [
    "# Writing Viterbi Algorithm for the Primer"
   ]
  },
  {
   "cell_type": "markdown",
   "metadata": {
    "id": "9NQOkvvK11_L"
   },
   "source": [
    "### Part A: Model Definition and Probability Calculation\n",
    "\n",
    "Model parameters according to the Nature Primer:\n",
    "\n",
    "**States:**\n",
    "- E: Exon\n",
    "- 5: 5′ Splice Site\n",
    "- I: Intron\n",
    "\n",
    "**Parameters:**\n",
    "- Starting probabilities: Initial state probabilities\n",
    "- Transition probabilities: Probabilities of moving between states\n",
    "- Emission probabilities: Probabilities of observing symbols in each state\n",
    "\n",
    "Calculate the log probability of a given path."
   ]
  },
  {
   "cell_type": "code",
   "execution_count": 1,
   "metadata": {
    "id": "Z1Kjx5R23Izg"
   },
   "outputs": [],
   "source": [
    "import math\n",
    "import numpy as np"
   ]
  },
  {
   "cell_type": "code",
   "execution_count": 2,
   "metadata": {
    "id": "ctSYUxYC3MVp"
   },
   "outputs": [],
   "source": [
    "def log(x):\n",
    "    return -float('inf') if x == 0 else math.log(x)"
   ]
  },
  {
   "cell_type": "code",
   "execution_count": 3,
   "metadata": {
    "id": "8BoLNh9c3a8m"
   },
   "outputs": [],
   "source": [
    "def path_log_probability(path, sequence, start_probs, trans_probs, emit_probs):\n",
    "    if len(path) != len(sequence):\n",
    "        raise ValueError(\"Path and sequence must have the same length\")\n",
    "\n",
    "    log_prob = 0.0\n",
    "\n",
    "    for i in range(len(sequence)):\n",
    "        current_state = path[i]\n",
    "        current_symbol = sequence[i]\n",
    "        if i == 0:\n",
    "            log_prob += log(start_probs[current_state])\n",
    "        else:\n",
    "            prev_state = path[i-1]\n",
    "            log_prob += log(trans_probs[prev_state].get(current_state, 0))\n",
    "\n",
    "        log_prob += log(emit_probs[current_state].get(current_symbol, 0))\n",
    "\n",
    "    final_state = path[-1]\n",
    "    if final_state == 'I' and 'end' in trans_probs['I']:\n",
    "        log_prob += log(trans_probs['I']['end'])\n",
    "\n",
    "    return log_prob"
   ]
  },
  {
   "cell_type": "code",
   "execution_count": 4,
   "metadata": {
    "id": "jJSZRse0FGRZ"
   },
   "outputs": [],
   "source": [
    "hmm_states = ['E', '5', 'I']\n",
    "\n",
    "hmm_start_probs = {\n",
    "    'E': 1.0,\n",
    "    '5': 0.0,\n",
    "    'I': 0.0\n",
    "}\n",
    "\n",
    "hmm_trans_probs = {\n",
    "    'E': {'E': 0.9, '5': 0.1},\n",
    "    '5': {'I': 1.0},\n",
    "    'I': {'I': 0.9, 'end': 0.1}\n",
    "}\n",
    "\n",
    "hmm_emit_probs = {\n",
    "    'E': {'A': 0.25, 'C': 0.25, 'G': 0.25, 'T': 0.25},\n",
    "    '5': {'A': 0.05, 'C': 0.0, 'G': 0.95, 'T': 0.0},\n",
    "    'I': {'A': 0.4, 'C': 0.1, 'G': 0.1, 'T': 0.4}\n",
    "}\n",
    "\n"
   ]
  },
  {
   "cell_type": "code",
   "execution_count": 5,
   "metadata": {
    "colab": {
     "base_uri": "https://localhost:8080/"
    },
    "id": "h6Kwvrs83LXt",
    "outputId": "ab61075e-6d46-4e01-c360-562609bfb62b"
   },
   "outputs": [
    {
     "name": "stdout",
     "output_type": "stream",
     "text": [
      "Log probability of the given path: -41.22\n"
     ]
    }
   ],
   "source": [
    "example_path = \"EEEEEEEEEEEEEEEEEE5IIIIIII\"\n",
    "example_sequence = \"CTTCATGTGAAAGCAGACGTAAGTCA\"\n",
    "\n",
    "log_prob = path_log_probability(\n",
    "    example_path,\n",
    "    example_sequence,\n",
    "    hmm_start_probs,\n",
    "    hmm_trans_probs,\n",
    "    hmm_emit_probs\n",
    ")\n",
    "\n",
    "print(f\"Log probability of the given path: {log_prob:.2f}\")"
   ]
  },
  {
   "cell_type": "markdown",
   "metadata": {
    "id": "u3_yhLJ23tAm"
   },
   "source": [
    "### Part B: Implementation\n",
    "\n",
    "Implementing the full Viterbi algorithm to find the most likely path for a given sequence.\n",
    "\n",
    "1. **Initialization:** Set up the Viterbi table for the first position\n",
    "2. **Recursion:** Fill the table by finding the most likely previous state for each current state\n",
    "3. **Termination:** Find the most likely final state and trace back to find the best path\n",
    "\n",
    "The algorithm uses dynamic programming to efficiently find the optimal path."
   ]
  },
  {
   "cell_type": "markdown",
   "metadata": {
    "id": "ou_Hrvkk4BfL"
   },
   "source": [
    "### Viterbi Algorithm Analysis\n",
    "\n",
    "**Computational Complexity:**\n",
    "- **Time Complexity:** O(T×N²) where T is sequence length and N is number of states\n",
    "  - For each position (T), we check all possible transitions (N²)\n",
    "- **Space Complexity:** O(T×N) to store the Viterbi matrix and backpointers\n",
    "\n",
    "**Numerical Considerations:**\n",
    "- We use log probabilities to prevent underflow with very small probability values\n",
    "- This implementation handles special cases like impossible transitions"
   ]
  },
  {
   "cell_type": "code",
   "execution_count": 7,
   "metadata": {
    "id": "1M-zi_m0FRtR"
   },
   "outputs": [
    {
     "name": "stdout",
     "output_type": "stream",
     "text": [
      "Most likely path: EEEEEEEEEEEEEEEEEEEEEEEEEE\n",
      "Log probability: -38.68\n"
     ]
    }
   ],
   "source": [
    "def viterbi_algorithm(sequence, states, start_probs, trans_probs, emit_probs):\n",
    "    sequence_length = len(sequence)\n",
    "\n",
    "    viterbi_matrix = [{} for _ in range(sequence_length)]\n",
    "\n",
    "    backpointers = [{} for _ in range(sequence_length)]\n",
    "\n",
    "    observed_symbol = sequence[0]\n",
    "    for state in states:\n",
    "        emission_prob = emit_probs[state].get(observed_symbol, 0)\n",
    "        viterbi_matrix[0][state] = log(start_probs[state]) + log(emission_prob)\n",
    "        backpointers[0][state] = None\n",
    "\n",
    "    for t in range(1, sequence_length):\n",
    "        observed_symbol = sequence[t]\n",
    "\n",
    "        for current_state in states:\n",
    "            emission_prob = emit_probs[current_state].get(observed_symbol, 0)\n",
    "\n",
    "            if emission_prob == 0:\n",
    "                continue\n",
    "\n",
    "            best_prob = -float('inf')\n",
    "            best_prev_state = None\n",
    "\n",
    "            for prev_state in states:\n",
    "                trans_prob = trans_probs.get(prev_state, {}).get(current_state, 0)\n",
    "                if trans_prob > 0:\n",
    "                    prev_prob = viterbi_matrix[t-1].get(prev_state, -float('inf'))\n",
    "                    path_prob = prev_prob + log(trans_prob) + log(emission_prob)\n",
    "\n",
    "                    if path_prob > best_prob:\n",
    "                        best_prob = path_prob\n",
    "                        best_prev_state = prev_state\n",
    "\n",
    "            if best_prev_state is not None:\n",
    "                viterbi_matrix[t][current_state] = best_prob\n",
    "                backpointers[t][current_state] = best_prev_state\n",
    "\n",
    "    final_position = sequence_length - 1\n",
    "    best_final_prob = -float('inf')\n",
    "    best_final_state = None\n",
    "\n",
    "    for state in states:\n",
    "        state_prob = viterbi_matrix[final_position].get(state, -float('inf'))\n",
    "\n",
    "        if state == 'I' and 'end' in trans_probs['I']:\n",
    "            state_prob += log(trans_probs['I']['end'])\n",
    "\n",
    "        if state_prob > best_final_prob:\n",
    "            best_final_prob = state_prob\n",
    "            best_final_state = state\n",
    "\n",
    "    best_path = [best_final_state] if best_final_state else []\n",
    "    current_state = best_final_state\n",
    "\n",
    "    for t in range(final_position, 0, -1):\n",
    "        prev_state = backpointers[t].get(current_state)\n",
    "        if prev_state is None:\n",
    "            break\n",
    "        best_path.insert(0, prev_state)\n",
    "        current_state = prev_state\n",
    "\n",
    "    return ''.join(best_path), best_final_prob\n",
    "\n",
    "most_likely_path, log_probability = viterbi_algorithm(\n",
    "    example_sequence,\n",
    "    hmm_states,\n",
    "    hmm_start_probs,\n",
    "    hmm_trans_probs,\n",
    "    hmm_emit_probs\n",
    ")\n",
    "\n",
    "print(f\"Most likely path: {most_likely_path}\")\n",
    "print(f\"Log probability: {log_probability:.2f}\")"
   ]
  },
  {
   "cell_type": "code",
   "execution_count": null,
   "metadata": {},
   "outputs": [],
   "source": []
  }
 ],
 "metadata": {
  "colab": {
   "provenance": []
  },
  "kernelspec": {
   "display_name": "Python 3 (ipykernel)",
   "language": "python",
   "name": "python3"
  },
  "language_info": {
   "codemirror_mode": {
    "name": "ipython",
    "version": 3
   },
   "file_extension": ".py",
   "mimetype": "text/x-python",
   "name": "python",
   "nbconvert_exporter": "python",
   "pygments_lexer": "ipython3",
   "version": "3.11.7"
  }
 },
 "nbformat": 4,
 "nbformat_minor": 4
}
